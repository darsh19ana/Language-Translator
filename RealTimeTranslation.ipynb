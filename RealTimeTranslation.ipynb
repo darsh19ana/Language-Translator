{
 "cells": [
  {
   "cell_type": "code",
   "execution_count": 1,
   "id": "10c5748e-5746-4562-a6c7-bd0a5f2ca4a2",
   "metadata": {},
   "outputs": [],
   "source": [
    "from tkinter import *\n",
    "from tkinter import ttk\n",
    "from translate import Translator\n",
    "from googletrans import LANGUAGES\n"
   ]
  },
  {
   "cell_type": "code",
   "execution_count": 2,
   "id": "a2a0756b-52fb-4118-a900-9781e1a085b0",
   "metadata": {},
   "outputs": [
    {
     "data": {
      "text/plain": [
       "''"
      ]
     },
     "execution_count": 2,
     "metadata": {},
     "output_type": "execute_result"
    }
   ],
   "source": [
    "root = Tk()\n",
    "root.geometry('1100x320')  \n",
    "root.resizable(0, 0)\n",
    "root['bg'] = 'pink'\n",
    "root.title('Real-time translator')"
   ]
  },
  {
   "cell_type": "code",
   "execution_count": 3,
   "id": "bad6a37f-c0ef-4c27-9b17-4a7fe75b31ee",
   "metadata": {},
   "outputs": [],
   "source": [
    "Label(root, text=\"Language Translator\", font=\"Arial 20 bold\").pack()"
   ]
  },
  {
   "cell_type": "code",
   "execution_count": 4,
   "id": "b36b2e67-9604-4970-b26a-edbb1f3ab7e4",
   "metadata": {},
   "outputs": [],
   "source": [
    "Label(root, text=\"Enter Text\", font='arial 13 bold', bg='white smoke').place(x=165, y=90)\n",
    "Input_text = Entry(root, width=60)\n",
    "Input_text.place(x=30, y=130)"
   ]
  },
  {
   "cell_type": "code",
   "execution_count": 5,
   "id": "bb811eca-fb72-487a-8031-d7f7fe293633",
   "metadata": {},
   "outputs": [],
   "source": [
    "Label(root, text=\"Output\", font='arial 13 bold', bg='white smoke').place(x=780, y=90)\n",
    "Output_text = Text(root, font='arial 10', height=5, wrap=WORD, padx=5, pady=5, width=50)\n",
    "Output_text.place(x=600, y=130)"
   ]
  },
  {
   "cell_type": "code",
   "execution_count": null,
   "id": "bfa20de3-390a-40be-b25d-1b4b5b5295a6",
   "metadata": {},
   "outputs": [],
   "source": [
    "language = list(LANGUAGES.values())\n",
    "dest_lang = ttk.Combobox(root, values=language, width=22)\n",
    "dest_lang.place(x=130, y=180)\n",
    "dest_lang.set('Choose Language')\n",
    "\n",
    "def Translate():\n",
    "    try:\n",
    "        translator = Translator(to_lang=dest_lang.get())\n",
    "        translation = translator.translate(Input_text.get())\n",
    "        Output_text.delete(1.0, END)\n",
    "        Output_text.insert(END, translation)\n",
    "    except Exception as e:\n",
    "        print(f\"Translation error: {e}\")\n",
    "\n",
    "trans_btn = Button(root, text='Translate', font='arial 12 bold', pady=5, command=Translate, bg='maroon', activebackground='orange')\n",
    "trans_btn.place(x=445, y=180)\n",
    "\n",
    "root.mainloop()"
   ]
  },
  {
   "cell_type": "code",
   "execution_count": null,
   "id": "e8c1be53-d5f7-47cf-9d85-01873acd1df4",
   "metadata": {},
   "outputs": [],
   "source": []
  }
 ],
 "metadata": {
  "kernelspec": {
   "display_name": "Python 3 (ipykernel)",
   "language": "python",
   "name": "python3"
  },
  "language_info": {
   "codemirror_mode": {
    "name": "ipython",
    "version": 3
   },
   "file_extension": ".py",
   "mimetype": "text/x-python",
   "name": "python",
   "nbconvert_exporter": "python",
   "pygments_lexer": "ipython3",
   "version": "3.11.2"
  }
 },
 "nbformat": 4,
 "nbformat_minor": 5
}
